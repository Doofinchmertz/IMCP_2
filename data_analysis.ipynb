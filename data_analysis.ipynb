{
 "cells": [
  {
   "cell_type": "code",
   "execution_count": 1,
   "metadata": {},
   "outputs": [],
   "source": [
    "import pandas as pd\n",
    "import numpy as np\n"
   ]
  },
  {
   "cell_type": "code",
   "execution_count": 2,
   "metadata": {},
   "outputs": [],
   "source": [
    "df = pd.read_csv('round-3-island-data-bottle/prices_round_3_day_0.csv', sep=';')"
   ]
  },
  {
   "cell_type": "code",
   "execution_count": 26,
   "metadata": {},
   "outputs": [],
   "source": [
    "## Basket = 4*chocolate + 6*strawberry + 1*rose\n",
    "\n",
    "df_chocolate = df[df['product'] == 'CHOCOLATE']\n",
    "df_strawberries = df[df['product'] == 'STRAWBERRIES']\n",
    "df_rose = df[df['product'] == 'ROSES']\n",
    "df_basket = df[df['product'] == 'GIFT_BASKET']\n",
    "df_chocolate.reset_index(drop=True, inplace=True)\n",
    "df_strawberries.reset_index(drop=True, inplace=True)\n",
    "df_rose.reset_index(drop=True, inplace=True)\n",
    "df_basket.reset_index(drop=True, inplace=True)\n",
    "combined_price = 4*df_chocolate['mid_price'] + 6*df_strawberries['mid_price'] + df_rose['mid_price']\n"
   ]
  },
  {
   "cell_type": "code",
   "execution_count": 28,
   "metadata": {},
   "outputs": [
    {
     "name": "stdout",
     "output_type": "stream",
     "text": [
      "0.8658463526502689\n"
     ]
    }
   ],
   "source": [
    "print(combined_price.corr(df_basket[\"mid_price\"]))"
   ]
  },
  {
   "cell_type": "code",
   "execution_count": null,
   "metadata": {},
   "outputs": [],
   "source": []
  }
 ],
 "metadata": {
  "kernelspec": {
   "display_name": "Python 3",
   "language": "python",
   "name": "python3"
  },
  "language_info": {
   "codemirror_mode": {
    "name": "ipython",
    "version": 3
   },
   "file_extension": ".py",
   "mimetype": "text/x-python",
   "name": "python",
   "nbconvert_exporter": "python",
   "pygments_lexer": "ipython3",
   "version": "3.9.6"
  }
 },
 "nbformat": 4,
 "nbformat_minor": 2
}
