{
 "cells": [
  {
   "cell_type": "code",
   "execution_count": 4,
   "metadata": {},
   "outputs": [],
   "source": [
    "import pandas as pd\n",
    "import numpy as np\n",
    "import talib\n",
    "import plotly.graph_objects as go"
   ]
  },
  {
   "cell_type": "code",
   "execution_count": 5,
   "metadata": {},
   "outputs": [],
   "source": [
    "df = pd.read_csv('round-4-island-data-bottle/prices_round_4_day_1.csv', sep=';')"
   ]
  },
  {
   "cell_type": "code",
   "execution_count": 12,
   "metadata": {},
   "outputs": [
    {
     "name": "stdout",
     "output_type": "stream",
     "text": [
      "Empty DataFrame\n",
      "Columns: [day, timestamp, product, bid_price_1, bid_volume_1, bid_price_2, bid_volume_2, bid_price_3, bid_volume_3, ask_price_1, ask_volume_1, ask_price_2, ask_volume_2, ask_price_3, ask_volume_3, mid_price, profit_and_loss, prev_mid_price, log_return]\n",
      "Index: []\n",
      "Volatility:  nan\n"
     ]
    },
    {
     "name": "stderr",
     "output_type": "stream",
     "text": [
      "/var/folders/qd/dl3m4xcd4dv0sm6t3n7hkqh40000gn/T/ipykernel_92323/2832474985.py:4: SettingWithCopyWarning: \n",
      "A value is trying to be set on a copy of a slice from a DataFrame.\n",
      "Try using .loc[row_indexer,col_indexer] = value instead\n",
      "\n",
      "See the caveats in the documentation: https://pandas.pydata.org/pandas-docs/stable/user_guide/indexing.html#returning-a-view-versus-a-copy\n",
      "  df_coupon.loc[:, \"prev_mid_price\"] = df_coupon[\"mid_price\"].shift(1)\n",
      "/var/folders/qd/dl3m4xcd4dv0sm6t3n7hkqh40000gn/T/ipykernel_92323/2832474985.py:5: SettingWithCopyWarning: \n",
      "A value is trying to be set on a copy of a slice from a DataFrame\n",
      "\n",
      "See the caveats in the documentation: https://pandas.pydata.org/pandas-docs/stable/user_guide/indexing.html#returning-a-view-versus-a-copy\n",
      "  df_coupon.dropna(inplace=True)\n"
     ]
    }
   ],
   "source": [
    "df_coconut = df[df['product'] == \"COCONUT\"]\n",
    "df_coupon = df[df['product'] == \"COCONUT_COUPON\"]\n",
    "df_coupon.reset_index(drop=True, inplace=True)\n",
    "df_coupon.loc[:, \"prev_mid_price\"] = df_coupon[\"mid_price\"].shift(1)\n",
    "df_coupon.dropna(inplace=True)\n",
    "df_coupon[\"log_return\"] = np.log(df_coupon[\"mid_price\"] / df_coupon[\"prev_mid_price\"])\n",
    "print(df_coupon.head())\n",
    "volatility = df_coupon[\"log_return\"].std()\n",
    "print(\"Volatility: \", volatility)"
   ]
  },
  {
   "cell_type": "code",
   "execution_count": null,
   "metadata": {},
   "outputs": [],
   "source": []
  }
 ],
 "metadata": {
  "kernelspec": {
   "display_name": "Python 3",
   "language": "python",
   "name": "python3"
  },
  "language_info": {
   "codemirror_mode": {
    "name": "ipython",
    "version": 3
   },
   "file_extension": ".py",
   "mimetype": "text/x-python",
   "name": "python",
   "nbconvert_exporter": "python",
   "pygments_lexer": "ipython3",
   "version": "3.9.6"
  }
 },
 "nbformat": 4,
 "nbformat_minor": 2
}
