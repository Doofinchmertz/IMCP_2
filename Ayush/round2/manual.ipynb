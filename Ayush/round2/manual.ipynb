{
 "cells": [
  {
   "cell_type": "code",
   "execution_count": 1,
   "metadata": {},
   "outputs": [],
   "source": [
    "import pandas as pd\n",
    "import numpy as np  \n",
    "import matplotlib.pyplot as plt"
   ]
  },
  {
   "cell_type": "code",
   "execution_count": 3,
   "metadata": {},
   "outputs": [
    {
     "name": "stdout",
     "output_type": "stream",
     "text": [
      "[[1.   0.48 1.52 0.71]\n",
      " [2.05 1.   3.26 1.56]\n",
      " [0.64 0.3  1.   0.46]\n",
      " [1.41 0.61 2.08 1.  ]]\n"
     ]
    }
   ],
   "source": [
    "\n",
    "matrix = np.array([[1, 0.48, 1.52, 0.71],\n",
    "                   [2.05, 1, 3.26, 1.56],\n",
    "                   [0.64, 0.3, 1, 0.46],\n",
    "                   [1.41, 0.61, 2.08, 1]])\n",
    "\n",
    "print(matrix)"
   ]
  },
  {
   "cell_type": "code",
   "execution_count": 4,
   "metadata": {},
   "outputs": [],
   "source": [
    "# point-wise multiplication of 2 matrices\n",
    "def multiply(matrix1, matrix2):\n",
    "    return matrix1 * matrix2\n",
    "\n",
    "a = matrix\n",
    "\n",
    "interchange = multiply(a, a.T)\n"
   ]
  },
  {
   "cell_type": "code",
   "execution_count": 5,
   "metadata": {},
   "outputs": [
    {
     "name": "stdout",
     "output_type": "stream",
     "text": [
      "[[1.     0.984  0.9728 1.0011]\n",
      " [0.984  1.     0.978  0.9516]\n",
      " [0.9728 0.978  1.     0.9568]\n",
      " [1.0011 0.9516 0.9568 1.    ]]\n"
     ]
    }
   ],
   "source": [
    "print(interchange)"
   ]
  },
  {
   "cell_type": "code",
   "execution_count": 12,
   "metadata": {},
   "outputs": [
    {
     "name": "stdout",
     "output_type": "stream",
     "text": [
      "[[1.         0.48780488 1.5625     0.70921986]\n",
      " [2.08333333 1.         3.33333333 1.63934426]\n",
      " [0.65789474 0.30674847 1.         0.48076923]\n",
      " [1.4084507  0.64102564 2.17391304 1.        ]]\n",
      "[[1.   0.48 1.52 0.71]\n",
      " [2.05 1.   3.26 1.56]\n",
      " [0.64 0.3  1.   0.46]\n",
      " [1.41 0.61 2.08 1.  ]]\n",
      "[[ 0.          0.00780488  0.0425     -0.00078014]\n",
      " [ 0.03333333  0.          0.07333333  0.07934426]\n",
      " [ 0.01789474  0.00674847  0.          0.02076923]\n",
      " [-0.0015493   0.03102564  0.09391304  0.        ]]\n"
     ]
    }
   ],
   "source": [
    "import numpy as np\n",
    "\n",
    "# Original matrix\n",
    "original_matrix = np.array([[1.0, 0.48, 1.52, 0.71],\n",
    "                            [2.05, 1.0, 3.26, 1.56],\n",
    "                            [0.64, 0.3, 1.0, 0.46],\n",
    "                            [1.41, 0.61, 2.08, 1.0]])\n",
    "\n",
    "# Matrix with 1/x elements\n",
    "result_matrix = 1 / original_matrix\n",
    "\n",
    "print(result_matrix.T)\n",
    "print(matrix)\n",
    "print(result_matrix.T - matrix)"
   ]
  },
  {
   "cell_type": "code",
   "execution_count": 6,
   "metadata": {},
   "outputs": [
    {
     "name": "stdout",
     "output_type": "stream",
     "text": [
      "[[0.71 1.   0.48 1.52]\n",
      " [1.56 2.05 1.   3.26]\n",
      " [0.46 0.64 0.3  1.  ]\n",
      " [1.   1.41 0.61 2.08]]\n"
     ]
    }
   ],
   "source": [
    "# rotate the matrix\n",
    "\n",
    "# left shift the matrix:\n",
    "def rotate(matrix):\n",
    "    return np.roll(matrix, 1, axis=1)\n",
    "\n",
    "rot = rotate(matrix)\n",
    "print(rot)\n"
   ]
  },
  {
   "cell_type": "code",
   "execution_count": null,
   "metadata": {},
   "outputs": [],
   "source": []
  },
  {
   "cell_type": "code",
   "execution_count": null,
   "metadata": {},
   "outputs": [],
   "source": [
    "matrix[3][1]"
   ]
  },
  {
   "cell_type": "code",
   "execution_count": 16,
   "metadata": {},
   "outputs": [
    {
     "name": "stdout",
     "output_type": "stream",
     "text": [
      "max: [0, 0, 0, 0] 1.0010999999999999\n",
      "max: [0, 0, 0, 1] 1.055808\n",
      "1.055808 0 0 0 1 1.055808\n",
      "1.055808 0 0 1 1 1.055808\n",
      "1.055808 0 0 1 3 1.055808\n",
      "1.055808 0 1 1 1 1.055808\n",
      "1.055808 0 1 1 3 1.055808\n",
      "max: [0, 1, 3, 0] 1.0569693888\n",
      "1.0569693888 0 1 3 0 1.0569693888\n",
      "1.055808 0 1 3 3 1.0569693888\n",
      "1.0569693887999998 0 3 0 1 1.0569693888\n",
      "1.055808 3 0 0 1 1.0569693888\n",
      "1.055808 3 0 1 1 1.0569693888\n",
      "1.055808 3 0 1 3 1.0569693888\n",
      "1.055808 3 3 0 1 1.0569693888\n"
     ]
    }
   ],
   "source": [
    "## Write all possible 4 digit numbers using 0, 1, 2, 3 with repitition allowed:\n",
    "\n",
    "digits = [0, 1, 2, 3]\n",
    "numbers = []\n",
    "max = 0\n",
    "\n",
    "for d1 in digits:\n",
    "    for d2 in digits:\n",
    "        for d3 in digits:\n",
    "            for d4 in digits:\n",
    "                score = matrix[3][d1] * matrix[d1][d2] * matrix[d2][d3] * matrix[d3][d4] * matrix[d4][3]\n",
    "                if score > max:\n",
    "                    max = score\n",
    "                    numbers = [d1, d2, d3, d4]\n",
    "                    print(\"max:\" ,numbers, max)\n",
    "                if(score > 1.05):\n",
    "                        print(score, d1, d2, d3, d4, max)\n",
    "\n"
   ]
  },
  {
   "cell_type": "code",
   "execution_count": null,
   "metadata": {},
   "outputs": [],
   "source": [
    "tower_values = [10, 20, 30, 40, 50]  # Example tower values\n",
    "\n",
    "# Step 1: Calculate the sum of all tower values\n",
    "total_sum = sum(tower_values)\n",
    "\n",
    "# Step 2 and 3: Assign weights based on magnitude\n",
    "weights = [value / total_sum * 100 for value in tower_values]\n",
    "\n",
    "# Step 4: Normalize the weights\n",
    "total_weight = sum(weights)\n",
    "weights = [weight / total_weight * 100 for weight in weights]\n",
    "\n",
    "print(weights)\n"
   ]
  },
  {
   "cell_type": "code",
   "execution_count": 3,
   "metadata": {},
   "outputs": [
    {
     "name": "stdout",
     "output_type": "stream",
     "text": [
      "1\n",
      "2\n",
      "3\n",
      "4\n",
      "5\n",
      "6\n",
      "7\n",
      "8\n",
      "9\n"
     ]
    }
   ],
   "source": [
    "for i in range(1, 10):\n",
    "    print(i)"
   ]
  },
  {
   "cell_type": "code",
   "execution_count": null,
   "metadata": {},
   "outputs": [],
   "source": []
  }
 ],
 "metadata": {
  "kernelspec": {
   "display_name": "Python 3",
   "language": "python",
   "name": "python3"
  },
  "language_info": {
   "codemirror_mode": {
    "name": "ipython",
    "version": 3
   },
   "file_extension": ".py",
   "mimetype": "text/x-python",
   "name": "python",
   "nbconvert_exporter": "python",
   "pygments_lexer": "ipython3",
   "version": "3.10.5"
  }
 },
 "nbformat": 4,
 "nbformat_minor": 2
}
